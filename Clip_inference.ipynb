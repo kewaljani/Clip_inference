{
  "cells": [
    {
      "cell_type": "code",
      "source": [
        "from google.colab import drive\n",
        "!pip install PyDrive\n",
        "from pydrive.auth import GoogleAuth\n",
        "from pydrive.drive import GoogleDrive\n",
        "from google.colab import auth\n",
        "from oauth2client.client import GoogleCredentials"
      ],
      "metadata": {
        "colab": {
          "base_uri": "https://localhost:8080/"
        },
        "id": "MLeR6mihvKn0",
        "outputId": "ba1a4775-1154-4a74-a8ea-97a503d31e87"
      },
      "execution_count": 1,
      "outputs": [
        {
          "output_type": "stream",
          "name": "stdout",
          "text": [
            "Looking in indexes: https://pypi.org/simple, https://us-python.pkg.dev/colab-wheels/public/simple/\n",
            "Requirement already satisfied: PyDrive in /usr/local/lib/python3.7/dist-packages (1.3.1)\n",
            "Requirement already satisfied: PyYAML>=3.0 in /usr/local/lib/python3.7/dist-packages (from PyDrive) (3.13)\n",
            "Requirement already satisfied: google-api-python-client>=1.2 in /usr/local/lib/python3.7/dist-packages (from PyDrive) (1.12.11)\n",
            "Requirement already satisfied: oauth2client>=4.0.0 in /usr/local/lib/python3.7/dist-packages (from PyDrive) (4.1.3)\n",
            "Requirement already satisfied: google-api-core<3dev,>=1.21.0 in /usr/local/lib/python3.7/dist-packages (from google-api-python-client>=1.2->PyDrive) (1.31.6)\n",
            "Requirement already satisfied: google-auth<3dev,>=1.16.0 in /usr/local/lib/python3.7/dist-packages (from google-api-python-client>=1.2->PyDrive) (1.35.0)\n",
            "Requirement already satisfied: uritemplate<4dev,>=3.0.0 in /usr/local/lib/python3.7/dist-packages (from google-api-python-client>=1.2->PyDrive) (3.0.1)\n",
            "Requirement already satisfied: six<2dev,>=1.13.0 in /usr/local/lib/python3.7/dist-packages (from google-api-python-client>=1.2->PyDrive) (1.15.0)\n",
            "Requirement already satisfied: httplib2<1dev,>=0.15.0 in /usr/local/lib/python3.7/dist-packages (from google-api-python-client>=1.2->PyDrive) (0.17.4)\n",
            "Requirement already satisfied: google-auth-httplib2>=0.0.3 in /usr/local/lib/python3.7/dist-packages (from google-api-python-client>=1.2->PyDrive) (0.0.4)\n",
            "Requirement already satisfied: protobuf<4.0.0dev,>=3.12.0 in /usr/local/lib/python3.7/dist-packages (from google-api-core<3dev,>=1.21.0->google-api-python-client>=1.2->PyDrive) (3.17.3)\n",
            "Requirement already satisfied: setuptools>=40.3.0 in /usr/local/lib/python3.7/dist-packages (from google-api-core<3dev,>=1.21.0->google-api-python-client>=1.2->PyDrive) (57.4.0)\n",
            "Requirement already satisfied: pytz in /usr/local/lib/python3.7/dist-packages (from google-api-core<3dev,>=1.21.0->google-api-python-client>=1.2->PyDrive) (2022.1)\n",
            "Requirement already satisfied: requests<3.0.0dev,>=2.18.0 in /usr/local/lib/python3.7/dist-packages (from google-api-core<3dev,>=1.21.0->google-api-python-client>=1.2->PyDrive) (2.23.0)\n",
            "Requirement already satisfied: packaging>=14.3 in /usr/local/lib/python3.7/dist-packages (from google-api-core<3dev,>=1.21.0->google-api-python-client>=1.2->PyDrive) (21.3)\n",
            "Requirement already satisfied: googleapis-common-protos<2.0dev,>=1.6.0 in /usr/local/lib/python3.7/dist-packages (from google-api-core<3dev,>=1.21.0->google-api-python-client>=1.2->PyDrive) (1.56.4)\n",
            "Requirement already satisfied: rsa<5,>=3.1.4 in /usr/local/lib/python3.7/dist-packages (from google-auth<3dev,>=1.16.0->google-api-python-client>=1.2->PyDrive) (4.9)\n",
            "Requirement already satisfied: pyasn1-modules>=0.2.1 in /usr/local/lib/python3.7/dist-packages (from google-auth<3dev,>=1.16.0->google-api-python-client>=1.2->PyDrive) (0.2.8)\n",
            "Requirement already satisfied: cachetools<5.0,>=2.0.0 in /usr/local/lib/python3.7/dist-packages (from google-auth<3dev,>=1.16.0->google-api-python-client>=1.2->PyDrive) (4.2.4)\n",
            "Requirement already satisfied: pyasn1>=0.1.7 in /usr/local/lib/python3.7/dist-packages (from oauth2client>=4.0.0->PyDrive) (0.4.8)\n",
            "Requirement already satisfied: pyparsing!=3.0.5,>=2.0.2 in /usr/local/lib/python3.7/dist-packages (from packaging>=14.3->google-api-core<3dev,>=1.21.0->google-api-python-client>=1.2->PyDrive) (3.0.9)\n",
            "Requirement already satisfied: idna<3,>=2.5 in /usr/local/lib/python3.7/dist-packages (from requests<3.0.0dev,>=2.18.0->google-api-core<3dev,>=1.21.0->google-api-python-client>=1.2->PyDrive) (2.10)\n",
            "Requirement already satisfied: urllib3!=1.25.0,!=1.25.1,<1.26,>=1.21.1 in /usr/local/lib/python3.7/dist-packages (from requests<3.0.0dev,>=2.18.0->google-api-core<3dev,>=1.21.0->google-api-python-client>=1.2->PyDrive) (1.24.3)\n",
            "Requirement already satisfied: chardet<4,>=3.0.2 in /usr/local/lib/python3.7/dist-packages (from requests<3.0.0dev,>=2.18.0->google-api-core<3dev,>=1.21.0->google-api-python-client>=1.2->PyDrive) (3.0.4)\n",
            "Requirement already satisfied: certifi>=2017.4.17 in /usr/local/lib/python3.7/dist-packages (from requests<3.0.0dev,>=2.18.0->google-api-core<3dev,>=1.21.0->google-api-python-client>=1.2->PyDrive) (2022.6.15)\n"
          ]
        }
      ]
    },
    {
      "cell_type": "code",
      "source": [
        ""
      ],
      "metadata": {
        "id": "2MGAlzwTCvv_"
      },
      "execution_count": 1,
      "outputs": []
    },
    {
      "cell_type": "code",
      "source": [
        "auth.authenticate_user()\n",
        "gauth = GoogleAuth()\n",
        "gauth.credentials = GoogleCredentials.get_application_default()\n",
        "drive = GoogleDrive(gauth)"
      ],
      "metadata": {
        "id": "gqk5OTuD1wwY"
      },
      "execution_count": 2,
      "outputs": []
    },
    {
      "cell_type": "code",
      "source": [
        "downloaded = drive.CreateFile({'id':\"1nB2zTXfdYWs6f2jj0Iv_hZVIulWOky2K\"})\n",
        "downloaded.GetContentFile('diverse_sampling_2000.zip') \n",
        "!unzip '/content/diverse_sampling_2000.zip' -d '/content/diverse_sampling_2000' "
      ],
      "metadata": {
        "id": "7EvRxH96v9Tp"
      },
      "execution_count": null,
      "outputs": []
    },
    {
      "cell_type": "markdown",
      "source": [
        ""
      ],
      "metadata": {
        "id": "9KKwcggE9IL3"
      }
    },
    {
      "cell_type": "code",
      "execution_count": 4,
      "metadata": {
        "id": "jKYC7ORzBZc2"
      },
      "outputs": [],
      "source": [
        "import glob\n",
        "folder1 = \"/content/diverse_sampling_2000/00188_Animalia_Arthropoda_Insecta_Coleoptera_Cantharidae_Cantharis_fusca/\"\n",
        "folder1_list = glob.glob(folder1+\"*\") # 200 sample Cantharis_fusca from slide 2\n",
        "folder2 = \"/content/diverse_sampling_2000/00333_Animalia_Arthropoda_Insecta_Coleoptera_Coccinellidae_Psyllobora_vigintimaculata/\" \n",
        "folder2_list = glob.glob(folder2+\"*\") # 200 sample Psyllobora_vigintimaculata from slide 2 \n",
        "folder3 = \"/content/diverse_sampling_2000/00433_Animalia_Arthropoda_Insecta_Diptera_Bombyliidae_Poecilanthrax_lucifer/\"\n",
        "folder3_list = glob.glob(folder3+\"*\") # 200 samples of Poecilanthrax_lucifer from slide 2\n",
        "folder4 = \"/content/diverse_sampling_2000/00472_Animalia_Arthropoda_Insecta_Diptera_Syrphidae_Eristalis_transversa/\"\n",
        "folder4_list = glob.glob(folder4+\"*\") # 200 Eristalis_transversa from slide 2\n",
        "folder5 = \"/content/diverse_sampling_2000/00493_Animalia_Arthropoda_Insecta_Diptera_Syrphidae_Toxomerus_politus/\"\n",
        "folder5_list = glob.glob(folder5+\"*\") # 200 samples of Toxomerus_politus from slide 2\n",
        "folder6 = \"/content/diverse_sampling_2000/00577_Animalia_Arthropoda_Insecta_Hemiptera_Flatidae_Ormenoides_venusta/\"\n",
        "folder6_list = glob.glob(folder6+\"*\") # 200 sample of Ormenoides_venusta from slide 2\n",
        "folder7 = \"/content/diverse_sampling_2000/00702_Animalia_Arthropoda_Insecta_Hymenoptera_Apidae_Bombus_terrestris/\"\n",
        "folder7_list = glob.glob(folder7+\"*\") # 200 samples of Bombus_terrestris from slide 2\n",
        "folder8 = \"/content/diverse_sampling_2000/00823_Animalia_Arthropoda_Insecta_Hymenoptera_Vespidae_Polistes_apachus/\"\n",
        "folder8_list = glob.glob(folder8+\"*\") # 200 samples of Polistes_apachu from slide 2\n",
        "folder9 = \"/content/diverse_sampling_2000/01253_Animalia_Arthropoda_Insecta_Lepidoptera_Geometridae_Lomographa_vestaliata/\"\n",
        "folder9_list = glob.glob(folder9+\"*\") # 200 samples of Lomographa_vestaliata from slide 2\n",
        "folder10 = \"/content/diverse_sampling_2000/01797_Animalia_Arthropoda_Insecta_Lepidoptera_Nymphalidae_Boloria_dia/\"\n",
        "folder10_list = glob.glob(folder10+\"*\") # 200 samples of Boloria_dia from slide 2\n",
        "\n",
        "# testing = \"/content/testing/\"\n",
        "# testing_list = glob.glob(testing+'*')\n"
      ]
    },
    {
      "cell_type": "code",
      "execution_count": 5,
      "metadata": {
        "id": "ERa0Bv7DDfu4",
        "colab": {
          "base_uri": "https://localhost:8080/"
        },
        "outputId": "6227e7f6-2705-4836-89b8-1c24ec2df1bd"
      },
      "outputs": [
        {
          "output_type": "stream",
          "name": "stdout",
          "text": [
            "Looking in indexes: https://pypi.org/simple, https://us-python.pkg.dev/colab-wheels/public/simple/\n",
            "Collecting open_clip_torch\n",
            "  Downloading open_clip_torch-1.3.0-py3-none-any.whl (1.4 MB)\n",
            "\u001b[K     |████████████████████████████████| 1.4 MB 19.0 MB/s \n",
            "\u001b[?25hRequirement already satisfied: torchvision in /usr/local/lib/python3.7/dist-packages (from open_clip_torch) (0.13.1+cu113)\n",
            "Collecting ftfy\n",
            "  Downloading ftfy-6.1.1-py3-none-any.whl (53 kB)\n",
            "\u001b[K     |████████████████████████████████| 53 kB 2.1 MB/s \n",
            "\u001b[?25hRequirement already satisfied: torch>=1.9 in /usr/local/lib/python3.7/dist-packages (from open_clip_torch) (1.12.1+cu113)\n",
            "Requirement already satisfied: regex in /usr/local/lib/python3.7/dist-packages (from open_clip_torch) (2022.6.2)\n",
            "Requirement already satisfied: tqdm in /usr/local/lib/python3.7/dist-packages (from open_clip_torch) (4.64.0)\n",
            "Requirement already satisfied: typing-extensions in /usr/local/lib/python3.7/dist-packages (from torch>=1.9->open_clip_torch) (4.1.1)\n",
            "Requirement already satisfied: wcwidth>=0.2.5 in /usr/local/lib/python3.7/dist-packages (from ftfy->open_clip_torch) (0.2.5)\n",
            "Requirement already satisfied: pillow!=8.3.*,>=5.3.0 in /usr/local/lib/python3.7/dist-packages (from torchvision->open_clip_torch) (7.1.2)\n",
            "Requirement already satisfied: numpy in /usr/local/lib/python3.7/dist-packages (from torchvision->open_clip_torch) (1.21.6)\n",
            "Requirement already satisfied: requests in /usr/local/lib/python3.7/dist-packages (from torchvision->open_clip_torch) (2.23.0)\n",
            "Requirement already satisfied: urllib3!=1.25.0,!=1.25.1,<1.26,>=1.21.1 in /usr/local/lib/python3.7/dist-packages (from requests->torchvision->open_clip_torch) (1.24.3)\n",
            "Requirement already satisfied: chardet<4,>=3.0.2 in /usr/local/lib/python3.7/dist-packages (from requests->torchvision->open_clip_torch) (3.0.4)\n",
            "Requirement already satisfied: idna<3,>=2.5 in /usr/local/lib/python3.7/dist-packages (from requests->torchvision->open_clip_torch) (2.10)\n",
            "Requirement already satisfied: certifi>=2017.4.17 in /usr/local/lib/python3.7/dist-packages (from requests->torchvision->open_clip_torch) (2022.6.15)\n",
            "Installing collected packages: ftfy, open-clip-torch\n",
            "Successfully installed ftfy-6.1.1 open-clip-torch-1.3.0\n"
          ]
        }
      ],
      "source": [
        "pip install open_clip_torch #installing open clip"
      ]
    },
    {
      "cell_type": "code",
      "execution_count": 6,
      "metadata": {
        "id": "wA1JsftzDitQ",
        "colab": {
          "base_uri": "https://localhost:8080/"
        },
        "outputId": "9c35db21-abac-4219-937e-765e04d0b502"
      },
      "outputs": [
        {
          "output_type": "stream",
          "name": "stderr",
          "text": [
            "100%|█████████████████████████████████████| 1.71G/1.71G [07:01<00:00, 4.06MiB/s]\n"
          ]
        }
      ],
      "source": [
        "import torch\n",
        "from PIL import Image\n",
        "import open_clip\n",
        "from matplotlib.patches import bbox_artist\n",
        "import matplotlib.pyplot as plt\n",
        "from sklearn.metrics import confusion_matrix\n",
        "from sklearn.metrics import ConfusionMatrixDisplay\n",
        "model, _, preprocess = open_clip.create_model_and_transforms('ViT-L-14', pretrained='laion400m_e32')\n"
      ]
    },
    {
      "cell_type": "code",
      "execution_count": null,
      "metadata": {
        "id": "P2IP43RuCNzm"
      },
      "outputs": [],
      "source": [
        "\n",
        "temp = [folder1_list,folder2_list,folder3_list,folder6_list,folder9_list,folder10_list] # Selection of 6 distinguishable classes [Cantharis_fusca,Psyllobora_vigintimaculata,Poecilanthrax_lucifer,Ormenoides_venusta, Lomographa_vestaliata, Boloria_dia]\n",
        "curr = 0\n",
        "lst = [1,2,3,6,9,10] # include the file number similar to the above list.\n",
        "res =  []\n",
        "# templates = ['itap of a',] # include different prefixes stated in clip paper \n",
        "# 'a bad photo of the',\n",
        "# 'a origami',\n",
        "# 'a photo of the large',\n",
        "# 'art of the', \n",
        "# 'a photo of the small',]\n",
        "\n",
        "accuracy = 0\n",
        "# for curr in templates:\n",
        "for number,filepath in enumerate(temp):\n",
        "  for i,image in enumerate(filepath):\n",
        "      filename = image.split('/')[-1]\n",
        "      image = preprocess(Image.open(image)).unsqueeze(0)\n",
        "      # print(curr+' black color beetle with orange head, a type of insect') # include this the input in this format if you want to use any templete\n",
        "      text = open_clip.tokenize(['a photo of black color beetle with orange head, a type of insect','a photo of white bug with black color spots, a type of insect','a photo of yellow insect with brown wings , a type of insect','a photo of Light green insect, looks like petal','a photo of white color insect, a type of moth','a photo of  insect with black spots on brown wings, a type of butterfly']) #selected the template with highest accuracy \n",
        "      with torch.no_grad():\n",
        "          image_features = model.encode_image(image)\n",
        "          text_features = model.encode_text(text)\n",
        "          text_probs = (100.0 * image_features @ text_features.T).softmax(dim=-1) \n",
        "      max = 0\n",
        "      text_probslst = text_probs[0].tolist()\n",
        "      # print(text_probslst)\n",
        "      for index in range(len(text_probslst)):\n",
        "        if text_probslst[index]>max:\n",
        "          max = text_probslst[index]\n",
        "          final  = index\n",
        "      if number == final:\n",
        "        accuracy +=1\n",
        "      # print(text_probslst,final,res)\n",
        "      # print(number)\n",
        "      # print(accuracy)\n",
        "      res.append(final+1)\n",
        "print((accuracy//1200)*100)\n",
        "# ytrue = [1]*200 +[2]*200+[3]*200+[4]*200+[5]*200+[6]*200\n",
        "# # print(len(ytrue))\n",
        "# # print(len(res))\n",
        "# labels = ['folder1','folder2','folder3','folder4','folder5','folder6']\n",
        "# cm = confusion_matrix(ytrue, res)\n",
        "# disp = ConfusionMatrixDisplay(confusion_matrix=cm, display_labels=labels)\n",
        "# disp.plot(xticks_rotation=45)\n",
        "# plt.savefig('insect_classifier.png',bbox_inches = 'tight')\n",
        "  "
      ]
    },
    {
      "cell_type": "markdown",
      "source": [
        ""
      ],
      "metadata": {
        "id": "SDN9xPHXQ7A_"
      }
    },
    {
      "cell_type": "markdown",
      "source": [
        "# For plotting the confusion matrix"
      ],
      "metadata": {
        "id": "vfzvgKAb7F2b"
      }
    },
    {
      "cell_type": "code",
      "execution_count": null,
      "metadata": {
        "id": "UC_CtXO4NLWq"
      },
      "outputs": [],
      "source": [
        "from matplotlib.patches import bbox_artist\n",
        "import matplotlib.pyplot as plt\n",
        "from sklearn.metrics import confusion_matrix\n",
        "from sklearn.metrics import ConfusionMatrixDisplay \n",
        "ytrue = [1]*200 +[2]*200+[3]*200+[4]*200+[5]*200+[6]*200 # add the number of folders you selected before \n",
        "labels = ['folder1','folder2','folder3','folder4','folder5','folder6']\n",
        "cm = confusion_matrix(ytrue, res)\n",
        "disp = ConfusionMatrixDisplay(confusion_matrix=cm, display_labels=labels)\n",
        "disp.plot(xticks_rotation=45)\n",
        "plt.savefig('insect_classifier.png',bbox_inches = 'tight')"
      ]
    }
  ],
  "metadata": {
    "accelerator": "GPU",
    "colab": {
      "name": "new_openai.ipynb",
      "provenance": [],
      "collapsed_sections": []
    },
    "kernelspec": {
      "display_name": "Python 3",
      "name": "python3"
    },
    "language_info": {
      "name": "python"
    }
  },
  "nbformat": 4,
  "nbformat_minor": 0
}